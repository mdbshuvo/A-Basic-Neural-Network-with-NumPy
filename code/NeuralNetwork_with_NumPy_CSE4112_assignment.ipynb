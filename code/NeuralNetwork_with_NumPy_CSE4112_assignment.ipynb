{
  "nbformat": 4,
  "nbformat_minor": 0,
  "metadata": {
    "colab": {
      "name": "NeuralNetwork_with_NumPy-CSE4112_assignment.ipynb",
      "provenance": [],
      "collapsed_sections": [],
      "authorship_tag": "ABX9TyNbO9x4iV+jALrKedR8tj2G",
      "include_colab_link": true
    },
    "kernelspec": {
      "name": "python3",
      "display_name": "Python 3"
    },
    "language_info": {
      "name": "python"
    }
  },
  "cells": [
    {
      "cell_type": "markdown",
      "metadata": {
        "id": "view-in-github",
        "colab_type": "text"
      },
      "source": [
        "<a href=\"https://colab.research.google.com/github/mdbshuvo/A-Basic-Neural-Network-with-NumPy/blob/main/code/NeuralNetwork_with_NumPy_CSE4112_assignment.ipynb\" target=\"_parent\"><img src=\"https://colab.research.google.com/assets/colab-badge.svg\" alt=\"Open In Colab\"/></a>"
      ]
    },
    {
      "cell_type": "code",
      "metadata": {
        "id": "LVGPe55-M693"
      },
      "source": [
        "import numpy as np\n",
        "import pandas as pd\n",
        "from matplotlib import pyplot as plt\n",
        "from sklearn.model_selection import train_test_split\n",
        "from sklearn.metrics import confusion_matrix "
      ],
      "execution_count": null,
      "outputs": []
    },
    {
      "cell_type": "markdown",
      "metadata": {
        "id": "ACuFNPOhN-30"
      },
      "source": [
        "# Reading the dataset"
      ]
    },
    {
      "cell_type": "markdown",
      "source": [
        "The dataset was imported from Google drive. The dataset is not publicly available."
      ],
      "metadata": {
        "id": "yBx5u7jJoAOL"
      }
    },
    {
      "cell_type": "code",
      "metadata": {
        "colab": {
          "base_uri": "https://localhost:8080/"
        },
        "id": "W3FHf-9bNdEz",
        "outputId": "778b0894-50a6-4cf3-9168-7859c8112c5c"
      },
      "source": [
        "from google.colab import drive\n",
        "drive.mount('/content/drive')"
      ],
      "execution_count": null,
      "outputs": [
        {
          "output_type": "stream",
          "name": "stdout",
          "text": [
            "Mounted at /content/drive\n"
          ]
        }
      ]
    },
    {
      "cell_type": "code",
      "metadata": {
        "colab": {
          "base_uri": "https://localhost:8080/",
          "height": 293
        },
        "id": "ma6k3KWrNfLn",
        "outputId": "b73e7992-ce29-454d-b2ed-126002ffa48b"
      },
      "source": [
        "# load dataset\n",
        "data = pd.read_excel(\"/content/drive/MyDrive/CSE_4112/Grade Prediction Data (Responses).xlsx\")\n",
        "data.head()"
      ],
      "execution_count": null,
      "outputs": [
        {
          "output_type": "execute_result",
          "data": {
            "text/html": [
              "<div>\n",
              "<style scoped>\n",
              "    .dataframe tbody tr th:only-of-type {\n",
              "        vertical-align: middle;\n",
              "    }\n",
              "\n",
              "    .dataframe tbody tr th {\n",
              "        vertical-align: top;\n",
              "    }\n",
              "\n",
              "    .dataframe thead th {\n",
              "        text-align: right;\n",
              "    }\n",
              "</style>\n",
              "<table border=\"1\" class=\"dataframe\">\n",
              "  <thead>\n",
              "    <tr style=\"text-align: right;\">\n",
              "      <th></th>\n",
              "      <th>Daily Study Hour (0 - )</th>\n",
              "      <th>Average CT Marks (0 - 20)</th>\n",
              "      <th>Class Attendance (percentage)</th>\n",
              "      <th>PL/SPL Study Hours (Daily) (0 - )</th>\n",
              "      <th>PL/SPL Sleeping Hours (Daily Average)</th>\n",
              "      <th>Average Sleeping Hours (Daily)</th>\n",
              "      <th>Social Media Hours (Daily Average)</th>\n",
              "      <th>PL/SPL Social Media Hours (Daily Average)</th>\n",
              "      <th>Concentration in Classes (0 - 10)</th>\n",
              "      <th>Confidence (0 - 10)</th>\n",
              "      <th>Final Grade (last Semester - 3-2) (GPA)</th>\n",
              "    </tr>\n",
              "  </thead>\n",
              "  <tbody>\n",
              "    <tr>\n",
              "      <th>0</th>\n",
              "      <td>1</td>\n",
              "      <td>8</td>\n",
              "      <td>65</td>\n",
              "      <td>12</td>\n",
              "      <td>6</td>\n",
              "      <td>8.0</td>\n",
              "      <td>3</td>\n",
              "      <td>1</td>\n",
              "      <td>NaN</td>\n",
              "      <td>3</td>\n",
              "      <td>3.25</td>\n",
              "    </tr>\n",
              "    <tr>\n",
              "      <th>1</th>\n",
              "      <td>2</td>\n",
              "      <td>12</td>\n",
              "      <td>95</td>\n",
              "      <td>9</td>\n",
              "      <td>10</td>\n",
              "      <td>10.0</td>\n",
              "      <td>2</td>\n",
              "      <td>1</td>\n",
              "      <td>7.0</td>\n",
              "      <td>7</td>\n",
              "      <td>3.84</td>\n",
              "    </tr>\n",
              "    <tr>\n",
              "      <th>2</th>\n",
              "      <td>2</td>\n",
              "      <td>15</td>\n",
              "      <td>96</td>\n",
              "      <td>13</td>\n",
              "      <td>6</td>\n",
              "      <td>8.0</td>\n",
              "      <td>5</td>\n",
              "      <td>2</td>\n",
              "      <td>5.0</td>\n",
              "      <td>8</td>\n",
              "      <td>3.61</td>\n",
              "    </tr>\n",
              "    <tr>\n",
              "      <th>3</th>\n",
              "      <td>1</td>\n",
              "      <td>9</td>\n",
              "      <td>70</td>\n",
              "      <td>6</td>\n",
              "      <td>8</td>\n",
              "      <td>8.0</td>\n",
              "      <td>3</td>\n",
              "      <td>2</td>\n",
              "      <td>7.0</td>\n",
              "      <td>9</td>\n",
              "      <td>3.41</td>\n",
              "    </tr>\n",
              "    <tr>\n",
              "      <th>4</th>\n",
              "      <td>1</td>\n",
              "      <td>8</td>\n",
              "      <td>60</td>\n",
              "      <td>10</td>\n",
              "      <td>9</td>\n",
              "      <td>8.0</td>\n",
              "      <td>2</td>\n",
              "      <td>2</td>\n",
              "      <td>3.0</td>\n",
              "      <td>4</td>\n",
              "      <td>3.14</td>\n",
              "    </tr>\n",
              "  </tbody>\n",
              "</table>\n",
              "</div>"
            ],
            "text/plain": [
              "   Daily Study Hour (0 - )  ...  Final Grade (last Semester - 3-2) (GPA) \n",
              "0                        1  ...                                      3.25\n",
              "1                        2  ...                                      3.84\n",
              "2                        2  ...                                      3.61\n",
              "3                        1  ...                                      3.41\n",
              "4                        1  ...                                      3.14\n",
              "\n",
              "[5 rows x 11 columns]"
            ]
          },
          "metadata": {},
          "execution_count": 157
        }
      ]
    },
    {
      "cell_type": "markdown",
      "metadata": {
        "id": "xEaq9_1OZh9g"
      },
      "source": [
        "# Preprocessing the dataset"
      ]
    },
    {
      "cell_type": "markdown",
      "source": [
        "The features and the labels are being separated. The null values are replaced with the feature mean."
      ],
      "metadata": {
        "id": "NY2zdENFo1MI"
      }
    },
    {
      "cell_type": "code",
      "metadata": {
        "colab": {
          "base_uri": "https://localhost:8080/",
          "height": 293
        },
        "id": "WQccz2V5C3bi",
        "outputId": "bb342690-7cb1-45b4-9f1f-b0d024112b7a"
      },
      "source": [
        "features = data.drop('Final Grade (last Semester - 3-2) (GPA) ', axis=1)\n",
        "features.head()"
      ],
      "execution_count": null,
      "outputs": [
        {
          "output_type": "execute_result",
          "data": {
            "text/html": [
              "<div>\n",
              "<style scoped>\n",
              "    .dataframe tbody tr th:only-of-type {\n",
              "        vertical-align: middle;\n",
              "    }\n",
              "\n",
              "    .dataframe tbody tr th {\n",
              "        vertical-align: top;\n",
              "    }\n",
              "\n",
              "    .dataframe thead th {\n",
              "        text-align: right;\n",
              "    }\n",
              "</style>\n",
              "<table border=\"1\" class=\"dataframe\">\n",
              "  <thead>\n",
              "    <tr style=\"text-align: right;\">\n",
              "      <th></th>\n",
              "      <th>Daily Study Hour (0 - )</th>\n",
              "      <th>Average CT Marks (0 - 20)</th>\n",
              "      <th>Class Attendance (percentage)</th>\n",
              "      <th>PL/SPL Study Hours (Daily) (0 - )</th>\n",
              "      <th>PL/SPL Sleeping Hours (Daily Average)</th>\n",
              "      <th>Average Sleeping Hours (Daily)</th>\n",
              "      <th>Social Media Hours (Daily Average)</th>\n",
              "      <th>PL/SPL Social Media Hours (Daily Average)</th>\n",
              "      <th>Concentration in Classes (0 - 10)</th>\n",
              "      <th>Confidence (0 - 10)</th>\n",
              "    </tr>\n",
              "  </thead>\n",
              "  <tbody>\n",
              "    <tr>\n",
              "      <th>0</th>\n",
              "      <td>1</td>\n",
              "      <td>8</td>\n",
              "      <td>65</td>\n",
              "      <td>12</td>\n",
              "      <td>6</td>\n",
              "      <td>8.0</td>\n",
              "      <td>3</td>\n",
              "      <td>1</td>\n",
              "      <td>NaN</td>\n",
              "      <td>3</td>\n",
              "    </tr>\n",
              "    <tr>\n",
              "      <th>1</th>\n",
              "      <td>2</td>\n",
              "      <td>12</td>\n",
              "      <td>95</td>\n",
              "      <td>9</td>\n",
              "      <td>10</td>\n",
              "      <td>10.0</td>\n",
              "      <td>2</td>\n",
              "      <td>1</td>\n",
              "      <td>7.0</td>\n",
              "      <td>7</td>\n",
              "    </tr>\n",
              "    <tr>\n",
              "      <th>2</th>\n",
              "      <td>2</td>\n",
              "      <td>15</td>\n",
              "      <td>96</td>\n",
              "      <td>13</td>\n",
              "      <td>6</td>\n",
              "      <td>8.0</td>\n",
              "      <td>5</td>\n",
              "      <td>2</td>\n",
              "      <td>5.0</td>\n",
              "      <td>8</td>\n",
              "    </tr>\n",
              "    <tr>\n",
              "      <th>3</th>\n",
              "      <td>1</td>\n",
              "      <td>9</td>\n",
              "      <td>70</td>\n",
              "      <td>6</td>\n",
              "      <td>8</td>\n",
              "      <td>8.0</td>\n",
              "      <td>3</td>\n",
              "      <td>2</td>\n",
              "      <td>7.0</td>\n",
              "      <td>9</td>\n",
              "    </tr>\n",
              "    <tr>\n",
              "      <th>4</th>\n",
              "      <td>1</td>\n",
              "      <td>8</td>\n",
              "      <td>60</td>\n",
              "      <td>10</td>\n",
              "      <td>9</td>\n",
              "      <td>8.0</td>\n",
              "      <td>2</td>\n",
              "      <td>2</td>\n",
              "      <td>3.0</td>\n",
              "      <td>4</td>\n",
              "    </tr>\n",
              "  </tbody>\n",
              "</table>\n",
              "</div>"
            ],
            "text/plain": [
              "   Daily Study Hour (0 - )  ...  Confidence (0 - 10)\n",
              "0                        1  ...                    3\n",
              "1                        2  ...                    7\n",
              "2                        2  ...                    8\n",
              "3                        1  ...                    9\n",
              "4                        1  ...                    4\n",
              "\n",
              "[5 rows x 10 columns]"
            ]
          },
          "metadata": {},
          "execution_count": 158
        }
      ]
    },
    {
      "cell_type": "code",
      "metadata": {
        "colab": {
          "base_uri": "https://localhost:8080/",
          "height": 293
        },
        "id": "JznUl0NWD0A5",
        "outputId": "bfd2c8ca-1e37-46f2-cb00-90b6547de2bf"
      },
      "source": [
        "# Null removal\n",
        "for k in features.keys():\n",
        "    features[k].mask(features[k].isnull(), other=np.mean(features[k]), inplace=True)\n",
        "\n",
        "features.head()"
      ],
      "execution_count": null,
      "outputs": [
        {
          "output_type": "execute_result",
          "data": {
            "text/html": [
              "<div>\n",
              "<style scoped>\n",
              "    .dataframe tbody tr th:only-of-type {\n",
              "        vertical-align: middle;\n",
              "    }\n",
              "\n",
              "    .dataframe tbody tr th {\n",
              "        vertical-align: top;\n",
              "    }\n",
              "\n",
              "    .dataframe thead th {\n",
              "        text-align: right;\n",
              "    }\n",
              "</style>\n",
              "<table border=\"1\" class=\"dataframe\">\n",
              "  <thead>\n",
              "    <tr style=\"text-align: right;\">\n",
              "      <th></th>\n",
              "      <th>Daily Study Hour (0 - )</th>\n",
              "      <th>Average CT Marks (0 - 20)</th>\n",
              "      <th>Class Attendance (percentage)</th>\n",
              "      <th>PL/SPL Study Hours (Daily) (0 - )</th>\n",
              "      <th>PL/SPL Sleeping Hours (Daily Average)</th>\n",
              "      <th>Average Sleeping Hours (Daily)</th>\n",
              "      <th>Social Media Hours (Daily Average)</th>\n",
              "      <th>PL/SPL Social Media Hours (Daily Average)</th>\n",
              "      <th>Concentration in Classes (0 - 10)</th>\n",
              "      <th>Confidence (0 - 10)</th>\n",
              "    </tr>\n",
              "  </thead>\n",
              "  <tbody>\n",
              "    <tr>\n",
              "      <th>0</th>\n",
              "      <td>1</td>\n",
              "      <td>8</td>\n",
              "      <td>65</td>\n",
              "      <td>12</td>\n",
              "      <td>6</td>\n",
              "      <td>8.0</td>\n",
              "      <td>3</td>\n",
              "      <td>1</td>\n",
              "      <td>6.0</td>\n",
              "      <td>3</td>\n",
              "    </tr>\n",
              "    <tr>\n",
              "      <th>1</th>\n",
              "      <td>2</td>\n",
              "      <td>12</td>\n",
              "      <td>95</td>\n",
              "      <td>9</td>\n",
              "      <td>10</td>\n",
              "      <td>10.0</td>\n",
              "      <td>2</td>\n",
              "      <td>1</td>\n",
              "      <td>7.0</td>\n",
              "      <td>7</td>\n",
              "    </tr>\n",
              "    <tr>\n",
              "      <th>2</th>\n",
              "      <td>2</td>\n",
              "      <td>15</td>\n",
              "      <td>96</td>\n",
              "      <td>13</td>\n",
              "      <td>6</td>\n",
              "      <td>8.0</td>\n",
              "      <td>5</td>\n",
              "      <td>2</td>\n",
              "      <td>5.0</td>\n",
              "      <td>8</td>\n",
              "    </tr>\n",
              "    <tr>\n",
              "      <th>3</th>\n",
              "      <td>1</td>\n",
              "      <td>9</td>\n",
              "      <td>70</td>\n",
              "      <td>6</td>\n",
              "      <td>8</td>\n",
              "      <td>8.0</td>\n",
              "      <td>3</td>\n",
              "      <td>2</td>\n",
              "      <td>7.0</td>\n",
              "      <td>9</td>\n",
              "    </tr>\n",
              "    <tr>\n",
              "      <th>4</th>\n",
              "      <td>1</td>\n",
              "      <td>8</td>\n",
              "      <td>60</td>\n",
              "      <td>10</td>\n",
              "      <td>9</td>\n",
              "      <td>8.0</td>\n",
              "      <td>2</td>\n",
              "      <td>2</td>\n",
              "      <td>3.0</td>\n",
              "      <td>4</td>\n",
              "    </tr>\n",
              "  </tbody>\n",
              "</table>\n",
              "</div>"
            ],
            "text/plain": [
              "   Daily Study Hour (0 - )  ...  Confidence (0 - 10)\n",
              "0                        1  ...                    3\n",
              "1                        2  ...                    7\n",
              "2                        2  ...                    8\n",
              "3                        1  ...                    9\n",
              "4                        1  ...                    4\n",
              "\n",
              "[5 rows x 10 columns]"
            ]
          },
          "metadata": {},
          "execution_count": 159
        }
      ]
    },
    {
      "cell_type": "code",
      "metadata": {
        "colab": {
          "base_uri": "https://localhost:8080/"
        },
        "id": "DkxbL0FWB4sw",
        "outputId": "1aacaae2-fb56-4d7c-83de-4638a89248a3"
      },
      "source": [
        "target = data['Final Grade (last Semester - 3-2) (GPA) ']\n",
        "target.head()"
      ],
      "execution_count": null,
      "outputs": [
        {
          "output_type": "execute_result",
          "data": {
            "text/plain": [
              "0    3.25\n",
              "1    3.84\n",
              "2    3.61\n",
              "3    3.41\n",
              "4    3.14\n",
              "Name: Final Grade (last Semester - 3-2) (GPA) , dtype: float64"
            ]
          },
          "metadata": {},
          "execution_count": 160
        }
      ]
    },
    {
      "cell_type": "code",
      "metadata": {
        "colab": {
          "base_uri": "https://localhost:8080/"
        },
        "id": "yADC0oz2JpVk",
        "outputId": "34d9f799-e0d6-4257-e049-e9f94d20eed8"
      },
      "source": [
        "target.min()"
      ],
      "execution_count": null,
      "outputs": [
        {
          "output_type": "execute_result",
          "data": {
            "text/plain": [
              "2.64"
            ]
          },
          "metadata": {},
          "execution_count": 161
        }
      ]
    },
    {
      "cell_type": "markdown",
      "source": [
        "Discretizing the label."
      ],
      "metadata": {
        "id": "d3E2znvvpqGf"
      }
    },
    {
      "cell_type": "code",
      "metadata": {
        "id": "spTNd66URY4y"
      },
      "source": [
        "# Traget Discretizing\n",
        "target.mask(3.75<=target, other=0, inplace=True)\n",
        "target.mask((3.5<=target) & (target<3.75), other=1, inplace=True)\n",
        "target.mask((3.25<=target) & (target<3.5), other=2, inplace=True)\n",
        "target.mask((3.00<=target) & (target<3.25), other=3, inplace=True)\n",
        "target.mask((2.75<=target) & (target<3.00), other=4, inplace=True)\n",
        "target.mask((2.5<=target) & (target<2.75), other=5, inplace=True)"
      ],
      "execution_count": null,
      "outputs": []
    },
    {
      "cell_type": "code",
      "metadata": {
        "colab": {
          "base_uri": "https://localhost:8080/"
        },
        "id": "NxQfkdo8LhRO",
        "outputId": "b952d734-f6d9-4d4a-f6a8-85680bcf08a3"
      },
      "source": [
        "target.head()"
      ],
      "execution_count": null,
      "outputs": [
        {
          "output_type": "execute_result",
          "data": {
            "text/plain": [
              "0    2.0\n",
              "1    0.0\n",
              "2    1.0\n",
              "3    2.0\n",
              "4    3.0\n",
              "Name: Final Grade (last Semester - 3-2) (GPA) , dtype: float64"
            ]
          },
          "metadata": {},
          "execution_count": 163
        }
      ]
    },
    {
      "cell_type": "markdown",
      "source": [
        "Computing the class weights."
      ],
      "metadata": {
        "id": "NqjD5yc3p4nK"
      }
    },
    {
      "cell_type": "code",
      "metadata": {
        "colab": {
          "base_uri": "https://localhost:8080/"
        },
        "id": "l_Cm2pAHZ7Yk",
        "outputId": "63e1ff96-fd51-44dd-f22c-28fd2b880e71"
      },
      "source": [
        "cls_count = []\n",
        "for i in range(6):\n",
        "    cls_count.append(target.where(target==i).count())\n",
        "\n",
        "cls_count"
      ],
      "execution_count": null,
      "outputs": [
        {
          "output_type": "execute_result",
          "data": {
            "text/plain": [
              "[48, 11, 17, 7, 4, 1]"
            ]
          },
          "metadata": {},
          "execution_count": 164
        }
      ]
    },
    {
      "cell_type": "code",
      "metadata": {
        "colab": {
          "base_uri": "https://localhost:8080/"
        },
        "id": "zjjpwzJGh24D",
        "outputId": "02780484-1022-4590-abf3-09059b9cd0f3"
      },
      "source": [
        "from sklearn.utils.class_weight import compute_class_weight\n",
        "\n",
        "# weights = compute_class_weight(class_weight='balanced', classes=np.unique(target), y=target)\n",
        "# weights = 1 / np.array(cls_count)\n",
        "\n",
        "weights = np.sum(cls_count) / (np.unique(target).shape[0] * np.array(cls_count))\n",
        "\n",
        "weights_dict = {}\n",
        "\n",
        "for i, j in enumerate(weights):\n",
        "    weights_dict[i] = j\n",
        "\n",
        "weights_dict"
      ],
      "execution_count": null,
      "outputs": [
        {
          "output_type": "execute_result",
          "data": {
            "text/plain": [
              "{0: 0.3055555555555556,\n",
              " 1: 1.3333333333333333,\n",
              " 2: 0.8627450980392157,\n",
              " 3: 2.0952380952380953,\n",
              " 4: 3.6666666666666665,\n",
              " 5: 14.666666666666666}"
            ]
          },
          "metadata": {},
          "execution_count": 165
        }
      ]
    },
    {
      "cell_type": "markdown",
      "source": [
        "One hot encoding the labels."
      ],
      "metadata": {
        "id": "iPQ8eW70qcRU"
      }
    },
    {
      "cell_type": "code",
      "metadata": {
        "id": "S6iatQFHZ0Vh"
      },
      "source": [
        "# features and targets\n",
        "X = np.array(features)\n",
        "Y_raw = np.array(target, dtype='int')\n",
        "\n",
        "# https://stackoverflow.com/questions/29831489/convert-array-of-indices-to-1-hot-encoded-numpy-array\n",
        "# output one hot encoding\n",
        "n_val = np.max(Y_raw) + 1\n",
        "Y = np.eye(n_val)[Y_raw]"
      ],
      "execution_count": null,
      "outputs": []
    },
    {
      "cell_type": "code",
      "metadata": {
        "colab": {
          "base_uri": "https://localhost:8080/"
        },
        "id": "mW-hX40M5xsi",
        "outputId": "a33627c4-1bdd-4050-cfa0-290dbfa8ec93"
      },
      "source": [
        "Y_raw[:5]"
      ],
      "execution_count": null,
      "outputs": [
        {
          "output_type": "execute_result",
          "data": {
            "text/plain": [
              "array([2, 0, 1, 2, 3])"
            ]
          },
          "metadata": {},
          "execution_count": 167
        }
      ]
    },
    {
      "cell_type": "code",
      "metadata": {
        "colab": {
          "base_uri": "https://localhost:8080/",
          "height": 341
        },
        "id": "Fd72vFZs524y",
        "outputId": "36c18d9e-482c-4023-85a2-8f468c9cc888"
      },
      "source": [
        "plt.hist(Y_raw, 6)"
      ],
      "execution_count": null,
      "outputs": [
        {
          "output_type": "execute_result",
          "data": {
            "text/plain": [
              "(array([48., 11., 17.,  7.,  4.,  1.]),\n",
              " array([0.        , 0.83333333, 1.66666667, 2.5       , 3.33333333,\n",
              "        4.16666667, 5.        ]),\n",
              " <a list of 6 Patch objects>)"
            ]
          },
          "metadata": {},
          "execution_count": 168
        },
        {
          "output_type": "display_data",
          "data": {
            "image/png": "[encoded data removed]",
            "text/plain": [
              "<Figure size 432x288 with 1 Axes>"
            ]
          },
          "metadata": {
            "needs_background": "light"
          }
        }
      ]
    },
    {
      "cell_type": "code",
      "metadata": {
        "colab": {
          "base_uri": "https://localhost:8080/"
        },
        "id": "TJtx6FjXcbCV",
        "outputId": "a921bd0f-15d7-4053-b7d1-2cfe6be224ce"
      },
      "source": [
        "Y[:5]"
      ],
      "execution_count": null,
      "outputs": [
        {
          "output_type": "execute_result",
          "data": {
            "text/plain": [
              "array([[0., 0., 1., 0., 0., 0.],\n",
              "       [1., 0., 0., 0., 0., 0.],\n",
              "       [0., 1., 0., 0., 0., 0.],\n",
              "       [0., 0., 1., 0., 0., 0.],\n",
              "       [0., 0., 0., 1., 0., 0.]])"
            ]
          },
          "metadata": {},
          "execution_count": 169
        }
      ]
    },
    {
      "cell_type": "markdown",
      "source": [
        "Splitting the dataset into train test sets."
      ],
      "metadata": {
        "id": "T3c0bk2XqogW"
      }
    },
    {
      "cell_type": "code",
      "metadata": {
        "id": "ol1HrfteRaAH"
      },
      "source": [
        "# Splitting the dataset into train and test \n",
        "X_train, X_test, y_train, y_test = train_test_split(X, Y, test_size = 0.2, random_state = 42)"
      ],
      "execution_count": null,
      "outputs": []
    },
    {
      "cell_type": "markdown",
      "metadata": {
        "id": "1G2AD73AOHeH"
      },
      "source": [
        "# Building a layer"
      ]
    },
    {
      "cell_type": "markdown",
      "metadata": {
        "id": "XFNR4oqEeyKG"
      },
      "source": [
        "From: https://towardsdatascience.com/derivative-of-the-softmax-function-and-the-categorical-cross-entropy-loss-ffceefc081d1\n",
        "\n",
        "The derivative of softmax function is explained beautifully here. Had a lot of help from this link.\n",
        "\n",
        "![image.png](data:image/png;base64,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)\n",
        "\n",
        "The derivative:   \n",
        "![image.png](data:image/png;base64,iVBORw0KGgoAAAANSUhEUgAAAGkAAAA7CAYAAAB4xKTGAAADUElEQVR4nO2bXbXrIBBGsYAGLMQDEtCABRzgAAdVEAUYiIE4GA/febmTS9ukDTSnpzSz18pLflZZ2QGGYaogfDzqrxsgPEckdYBI6gCR1AEiqQNEUgeIpA4QSR0gkjqgSVLOGd57aK2hlIK1FtM0Hd024R9NkrTWSCmBiEBEGIYB1trN+4kIIQRoraG1xuVyaW7wGTlkuBvHEUopzPO8et05B2MMiAgxxof3CvccIinnDKUUcs531+Z5hlIKKSUAWHre2r3COk2SxnHEMAxQSsEYs/SOtRefUtq8JuyjWtLlcoFSCjFGEBHmeYYxZlOE9x5KSRD5ClVvj4igtYZz7uq8tXZThDEGwzC0t1Cok8RD1224ba2FMebufiKCUgohhNdaeXKqJDnnoLW+O6+1hvf+7jxHfeM4trdQqJNkrb1bD7GIrflorYcJdbwsyVq7OudM0wSt9WYm4nZeE7ZpnpOIaEkN3YpIKS0pIw40eMjj52QI3E91bMzpna2cXc4ZzrklozBNE0IIS5hujBFBlcgCpgNEUgeIpA4QSR0gkjrgNJKmaYJzDkqpq6XBb+9rxRiXaLhMj3HieS3NdsspJHFiuFzjPUoKH0XOGTHGZeegFMJ5zbU02y0fK4lf4p7j2V4Vb0qWUmKMb8vOs5By8xPAsuXzjN2S9r6w2uMdlJLWEsFrHPmRAFgW8zzkcZv2DLcf25OOpnzpxpi3VzfxfMi5T+/9rl4EfLCko79k4HoS3zMXHAmXGAzDgHmeobUGEe169mMl/Ra8tfLuiqVyyHXOVZW1fb0kzsizEP6i373PxVVT5ZC3l2ZJvVSxlhl4Hua8939S98e/X/vbzZJqq1jPDhHBGNNUvXvYcPesivXshBB2h/+3HCbpURXrWTHGIOeMlNJLC+dmSXuqWPnc2lGuvL+RMssQQtgdbq/RJGlvFSsXqZTzFq8VXmn02aiWVFPFyt0d+L/iflRBJKxTLam2ihW4Hvbkv0n1VEtqrWKVcuN2qiXVVLFyjornIaGNQyStVbGWgUKZTLTWSpheyUtz0qMqVt4eLq9xVCiRXR1NIfizKtYymXh7SAF/PV+fBf8GRFIHiKQOEEkdIJI6QCR1gEjqAJHUASKpA0RSB/wAtjEvHVWXvJkAAAAASUVORK5CYII=)"
      ]
    },
    {
      "cell_type": "code",
      "metadata": {
        "id": "X2LkKM46OMI9"
      },
      "source": [
        "# https://cs230.stanford.edu/files/C1M3.pdf\n",
        "\n",
        "class NeuralNetwork:\n",
        "    def __init__(self, nh_layers=1, nh_units=[4]):\n",
        "        # hidden layers\n",
        "        self.nh_layers = nh_layers\n",
        "        self.nh_units = nh_units\n",
        "\n",
        "        # input output layers\n",
        "        self.inp_units = 10\n",
        "        self.out_units = 6\n",
        "\n",
        "        # weights and biases initialization\n",
        "        self.W = [np.random.rand(self.nh_units[0], self.inp_units)]\n",
        "        for i in range(1, self.nh_layers):\n",
        "            self.W.append(np.random.rand(self.nh_units[i], self.nh_units[i-1]))\n",
        "        self.W.append(np.random.rand(self.out_units, self.nh_units[self.nh_layers-1]))\n",
        "\n",
        "        self.b = []\n",
        "        for i in range(self.nh_layers):\n",
        "            self.b.append(np.zeros((self.nh_units[i], 1)))\n",
        "        self.b.append(np.zeros((self.out_units, 1)))\n",
        "    \n",
        "    def show_params(self):\n",
        "        print(\"Weights : \")\n",
        "        for i, j in enumerate(self.W):\n",
        "            print(i+1, ' layer:') if i!=len(self.W)-1 else print('output layer:')\n",
        "            print(j)\n",
        "\n",
        "        print(\"Biases : \")\n",
        "        for i, j in enumerate(self.b):\n",
        "            print(i+1, ' layer:') if i!=len(self.b)-1 else print('output layer:')\n",
        "            print(j)\n",
        "\n",
        "    def fit(self, X, y, lr=1e-5, epoch=20, weights=None):\n",
        "        N = X.shape[0]\n",
        "        if weights is not None:\n",
        "            weights = np.array([weights])\n",
        "\n",
        "        if N != y.shape[0]:\n",
        "            raise(\"Features and labels number of samples doesn't match\")\n",
        "\n",
        "        for i in range(epoch):\n",
        "            layer_outputs, zs = self.pred(X, fit_called=True)\n",
        "            y_pred = layer_outputs[-1].T\n",
        "\n",
        "            # categorical cross entropy\n",
        "            if weights is None:\n",
        "                cce = -np.sum(y*np.log(y_pred)) / N\n",
        "            else:\n",
        "                cce = -np.sum(y*np.log(y_pred)*weights) / N\n",
        "\n",
        "            print(i+1, cce)\n",
        "\n",
        "            # back propagation\n",
        "\n",
        "            # output layer\n",
        "            if weights is None:\n",
        "                dz_out = (y_pred - y).T\n",
        "            else:\n",
        "                dz_out = ((y_pred - y)*weights).T\n",
        "            dw = [np.matmul(dz_out, layer_outputs[-2].T)]\n",
        "            db = [np.mean(dz_out, axis=1, keepdims=True)]\n",
        "            # print(len(layer_outputs), layer_outputs[-4].shape)\n",
        "            # print(dw[0].shape, db[0].shape)\n",
        "            # print(dw, db)\n",
        "\n",
        "            # intermediate layers\n",
        "            dz = dz_out.copy()\n",
        "            ind = 1\n",
        "            for i in range(self.nh_layers-1, 0, -1):\n",
        "                dz = np.matmul(self.W[i+1].T, dz) * ((zs[i] > 0) * 1) # The later part is derivative of Relu \n",
        "                dw.insert(0, np.matmul(dz, layer_outputs[-2-ind].T))\n",
        "                db.insert(0, np.mean(dz, axis=1, keepdims=True))\n",
        "                # print(dz.shape, layer_outputs[-2-ind].shape, -2-ind, dw[0].shape, db[0].shape)\n",
        "                # print(dw, db)\n",
        "\n",
        "                ind += 1\n",
        "\n",
        "            # First layer\n",
        "            dz = np.matmul(self.W[1].T, dz) * ((zs[0] > 0) * 1) # The later part is derivative of Relu \n",
        "            dw.insert(0, np.matmul(dz, X))\n",
        "            db.insert(0, np.mean(dz, axis=1, keepdims=True))\n",
        "            # print(dw[0].shape, db[0].shape)\n",
        "            # print(dw, db)\n",
        "\n",
        "            for i in range(len(self.W)):\n",
        "                self.W[i] = self.W[i] - lr*dw[i]\n",
        "                self.b[i] = self.b[i] - lr*db[i]\n",
        "\n",
        "            # print(dw)\n",
        "            # print(db)\n",
        "    \n",
        "    def pred(self, X, fit_called=False):\n",
        "        y_pred = np.array(X).T\n",
        "\n",
        "        layer_outs = []\n",
        "        zs = []\n",
        "        for i in range(self.nh_layers+1): # extra 1 is for output layer\n",
        "            y_pred = np.matmul(self.W[i], y_pred) + self.b[i]\n",
        "            zs.append(y_pred)\n",
        "\n",
        "            # relu\n",
        "            if i!= self.nh_layers:\n",
        "                y_pred = np.maximum(y_pred, 0)\n",
        "                layer_outs.append(y_pred)\n",
        "\n",
        "        # softmax\n",
        "        y_pred = np.exp(y_pred) / np.sum(np.exp(y_pred), axis=0, keepdims=True)\n",
        "        layer_outs.append(y_pred)\n",
        "\n",
        "        if not fit_called:\n",
        "            return y_pred.T\n",
        "        else:\n",
        "            return layer_outs, zs"
      ],
      "execution_count": null,
      "outputs": []
    },
    {
      "cell_type": "code",
      "metadata": {
        "id": "Vvfld9Y6vmAL",
        "colab": {
          "base_uri": "https://localhost:8080/"
        },
        "outputId": "ecad1f0b-8e64-4236-92ba-f8baeb6fb633"
      },
      "source": [
        "nn = NeuralNetwork(2, [3,4])\n",
        "nn.show_params()"
      ],
      "execution_count": null,
      "outputs": [
        {
          "output_type": "stream",
          "name": "stdout",
          "text": [
            "Weights : \n",
            "1  layer:\n",
            "[[0.36565378 0.02913339 0.16303088 0.43101469 0.41156409 0.05313858\n",
            "  0.3993803  0.6764647  0.03946558 0.08003232]\n",
            " [0.64439164 0.55670773 0.83372978 0.68866128 0.70864162 0.31554734\n",
            "  0.55490263 0.28705441 0.22652063 0.85802463]\n",
            " [0.98091921 0.80359659 0.26547163 0.07760041 0.53507329 0.21400199\n",
            "  0.53682866 0.55707976 0.53321183 0.73506645]]\n",
            "2  layer:\n",
            "[[0.77095318 0.10300388 0.93742605]\n",
            " [0.11106743 0.0669874  0.15237592]\n",
            " [0.70724005 0.3939264  0.64868199]\n",
            " [0.66489463 0.7692136  0.57834213]]\n",
            "3  layer:\n",
            "[[0.14782209 0.05262521 0.96191877 0.65103914]\n",
            " [0.24659558 0.95373123 0.92234076 0.71461509]\n",
            " [0.73832977 0.03841482 0.16085318 0.33699102]\n",
            " [0.93930763 0.36165667 0.09119717 0.96403047]]\n",
            "output layer:\n",
            "[[0.84868456 0.21079593 0.85306201 0.18263254]\n",
            " [0.00607931 0.03062973 0.46130638 0.01029638]\n",
            " [0.07083901 0.59971078 0.82024949 0.62622441]\n",
            " [0.61423535 0.07667504 0.87394323 0.96642155]\n",
            " [0.56966727 0.49389379 0.49088028 0.547607  ]\n",
            " [0.16288027 0.90192647 0.90175088 0.00951587]]\n",
            "Biases : \n",
            "1  layer:\n",
            "[[0.]\n",
            " [0.]\n",
            " [0.]]\n",
            "2  layer:\n",
            "[[0.]\n",
            " [0.]\n",
            " [0.]\n",
            " [0.]]\n",
            "3  layer:\n",
            "[[0.]\n",
            " [0.]\n",
            " [0.]\n",
            " [0.]]\n",
            "output layer:\n",
            "[[0.]\n",
            " [0.]\n",
            " [0.]\n",
            " [0.]\n",
            " [0.]\n",
            " [0.]]\n"
          ]
        }
      ]
    },
    {
      "cell_type": "code",
      "metadata": {
        "id": "8-RNBotJh__a",
        "colab": {
          "base_uri": "https://localhost:8080/"
        },
        "outputId": "4ba1c919-5e36-4c64-af01-576a6bf47bff"
      },
      "source": [
        "nn.fit(X_train, y_train, lr=1e-6, epoch=100, weights=weights)\n",
        "\n",
        "y_pred_test = nn.pred(X_test)"
      ],
      "execution_count": null,
      "outputs": [
        {
          "output_type": "stream",
          "name": "stdout",
          "text": [
            "1 121.71032529195992\n",
            "2 94.87744500663825\n",
            "3 72.57115111609679\n",
            "4 64.57823481218377\n",
            "5 49.14278838691768\n",
            "6 44.715602230516225\n",
            "7 41.45515839043961\n",
            "8 38.52663327830459\n",
            "9 35.299982168658346\n",
            "10 32.96158609296242\n",
            "11 30.787251996371964\n",
            "12 30.082206240113457\n",
            "13 29.68824373425459\n",
            "14 29.37979887988545\n",
            "15 29.101393315982975\n",
            "16 28.83721349389126\n",
            "17 28.58123071462558\n",
            "18 28.33074535979175\n",
            "19 28.084412202496903\n",
            "20 27.841508262303524\n",
            "21 27.601621986389798\n",
            "22 27.364507057335857\n",
            "23 27.130008316942238\n",
            "24 26.89802441350343\n",
            "25 26.67234486215654\n",
            "26 26.44909527752892\n",
            "27 26.228195249117054\n",
            "28 26.009586986007843\n",
            "29 25.79322482597826\n",
            "30 25.579070184487485\n",
            "31 25.36708883498117\n",
            "32 25.15724934255\n",
            "33 24.949522129623016\n",
            "34 24.74387890882889\n",
            "35 24.540292335313\n",
            "36 24.338735791868285\n",
            "37 24.1391832548625\n",
            "38 23.941609209438308\n",
            "39 23.745988594819817\n",
            "40 23.55227396816649\n",
            "41 23.35310483182712\n",
            "42 23.15979965579879\n",
            "43 22.968394680107203\n",
            "44 22.782690952006586\n",
            "45 22.601344846994188\n",
            "46 22.42175025265807\n",
            "47 22.24387139065946\n",
            "48 22.075813911925497\n",
            "49 21.909447113883996\n",
            "50 21.747814273616942\n",
            "51 21.590285432721576\n",
            "52 21.43446355221268\n",
            "53 21.280166793303273\n",
            "54 21.127284689975678\n",
            "55 20.977417315567873\n",
            "56 20.833695855081533\n",
            "57 20.693767495233658\n",
            "58 20.555155957668802\n",
            "59 20.417828464828425\n",
            "60 20.28175743751369\n",
            "61 20.14911353545195\n",
            "62 20.017702196917007\n",
            "63 19.888957932299576\n",
            "64 19.761346437292\n",
            "65 19.63484797104101\n",
            "66 19.50944462336527\n",
            "67 19.38511997200383\n",
            "68 19.261858816264535\n",
            "69 19.139646955768132\n",
            "70 19.01847100548933\n",
            "71 18.89831824349367\n",
            "72 18.779176488027957\n",
            "73 18.661034000064998\n",
            "74 18.54387940714166\n",
            "75 18.42770164448191\n",
            "76 18.312489909822496\n",
            "77 18.19823362890505\n",
            "78 18.08492242915658\n",
            "79 17.97254611959044\n",
            "80 17.861094675395776\n",
            "81 17.750558226041314\n",
            "82 17.64092704600298\n",
            "83 17.532191547445844\n",
            "84 17.42434227436047\n",
            "85 17.317369897781738\n",
            "86 17.211265211814478\n",
            "87 17.106019130262066\n",
            "88 17.001622683707527\n",
            "89 16.898067016935965\n",
            "90 16.79534338661631\n",
            "91 16.693443159181975\n",
            "92 16.592357808865433\n",
            "93 16.49207891585381\n",
            "94 16.39259816454074\n",
            "95 16.293907341856226\n",
            "96 16.195998335660892\n",
            "97 16.098863133194314\n",
            "98 16.00249381956971\n",
            "99 15.906882576309272\n",
            "100 15.81202167991547\n"
          ]
        }
      ]
    },
    {
      "cell_type": "code",
      "metadata": {
        "colab": {
          "base_uri": "https://localhost:8080/"
        },
        "id": "YdKMJqhj1VJK",
        "outputId": "de156151-b964-4501-8460-e44da7b42179"
      },
      "source": [
        "nn.show_params()"
      ],
      "execution_count": null,
      "outputs": [
        {
          "output_type": "stream",
          "name": "stdout",
          "text": [
            "Weights : \n",
            "1  layer:\n",
            "[[ 0.36150867 -0.02475488 -0.09425154  0.40685096  0.40189405  0.03736245\n",
            "   0.39970723  0.68515708  0.01898697  0.05540437]\n",
            " [ 0.64141024  0.52579062  0.67082408  0.67367742  0.70077289  0.30467878\n",
            "   0.55369705  0.29007178  0.21446401  0.84410257]\n",
            " [ 0.97527633  0.74181908 -0.04354789  0.04903444  0.52148105  0.194106\n",
            "   0.53624123  0.56493183  0.50951439  0.70778902]]\n",
            "2  layer:\n",
            "[[ 0.75636056 -0.0546796   0.87142626]\n",
            " [ 0.10954996 -0.01664058  0.12376931]\n",
            " [ 0.70327226  0.27006121  0.60589558]\n",
            " [ 0.64973715  0.58286839  0.5038189 ]]\n",
            "3  layer:\n",
            "[[0.1158275  0.04550784 0.91453827 0.58202424]\n",
            " [0.2411077  0.95210323 0.90430458 0.68316556]\n",
            " [0.7107212  0.03169433 0.11919847 0.27493213]\n",
            " [0.88463286 0.34963284 0.01822922 0.86207369]]\n",
            "output layer:\n",
            "[[ 0.85014498  0.2131324   0.85592662  0.18636865]\n",
            " [ 0.12781069  0.17093182  0.52148455  0.1307939 ]\n",
            " [ 0.04898906  0.5736654   0.80817779  0.60353837]\n",
            " [ 0.50604283 -0.0497579   0.80959598  0.84726337]\n",
            " [ 0.49979042  0.41178356  0.45359695  0.47525961]\n",
            " [ 0.16203898  0.90269535  0.90707272  0.01386936]]\n",
            "Biases : \n",
            "1  layer:\n",
            "[[-2.88871055e-05]\n",
            " [-2.03690558e-05]\n",
            " [-3.72594135e-05]]\n",
            "2  layer:\n",
            "[[-1.81881052e-05]\n",
            " [-7.86745588e-06]\n",
            " [-1.25300863e-05]\n",
            " [-2.15763257e-05]]\n",
            "3  layer:\n",
            "[[-9.17326579e-06]\n",
            " [-2.56324033e-06]\n",
            " [-5.67529411e-06]\n",
            " [-1.34496580e-05]]\n",
            "output layer:\n",
            "[[-9.34677702e-07]\n",
            " [ 1.71428571e-05]\n",
            " [-2.62909245e-06]\n",
            " [-1.02573273e-05]\n",
            " [-7.01702054e-06]\n",
            " [ 8.57046179e-07]]\n"
          ]
        }
      ]
    },
    {
      "cell_type": "code",
      "metadata": {
        "colab": {
          "base_uri": "https://localhost:8080/"
        },
        "id": "ZfOLcavh2YTM",
        "outputId": "a3ad1c8a-a4b4-43af-8dee-943385c66a6d"
      },
      "source": [
        "from sklearn.metrics import accuracy_score, confusion_matrix\n",
        "\n",
        "y_pred_test = n.pred(X_test)\n",
        "y_pred = (y_pred_test == np.max(y_pred_test, axis=1, keepdims=True)) * 1\n",
        "\n",
        "print(\"Accuracy:\", accuracy_score(y_test, y_pred))\n",
        "#confusion matrix\n",
        "cm=np.array(confusion_matrix(np.argmax(y_test, axis=1), np.argmax(y_pred, axis=1)))\n",
        "cm"
      ],
      "execution_count": null,
      "outputs": [
        {
          "output_type": "stream",
          "name": "stdout",
          "text": [
            "Accuracy: 0.4444444444444444\n"
          ]
        },
        {
          "output_type": "execute_result",
          "data": {
            "text/plain": [
              "array([[8, 0, 0, 0, 0],\n",
              "       [2, 0, 0, 0, 0],\n",
              "       [4, 0, 0, 0, 0],\n",
              "       [2, 0, 1, 0, 0],\n",
              "       [1, 0, 0, 0, 0]])"
            ]
          },
          "metadata": {},
          "execution_count": 186
        }
      ]
    },
    {
      "cell_type": "markdown",
      "metadata": {
        "id": "3blG36-9zyty"
      },
      "source": [
        "# Exercize"
      ]
    },
    {
      "cell_type": "code",
      "metadata": {
        "id": "lKrr3iWuiMif",
        "colab": {
          "base_uri": "https://localhost:8080/"
        },
        "outputId": "e3b221b8-c2ee-4339-8b55-01052d5ad61f"
      },
      "source": [
        "y_pred = [1,3,2]\n",
        "np.exp(y_pred) / np.sum(np.exp(y_pred))"
      ],
      "execution_count": null,
      "outputs": [
        {
          "output_type": "execute_result",
          "data": {
            "text/plain": [
              "array([0.09003057, 0.66524096, 0.24472847])"
            ]
          },
          "metadata": {},
          "execution_count": 83
        }
      ]
    },
    {
      "cell_type": "code",
      "metadata": {
        "id": "WMNqGuMx0A8L"
      },
      "source": [
        "(y_pred_test == np.max(y_pred_test, axis=1, keepdims=True)) * 1"
      ],
      "execution_count": null,
      "outputs": []
    }
  ]
}